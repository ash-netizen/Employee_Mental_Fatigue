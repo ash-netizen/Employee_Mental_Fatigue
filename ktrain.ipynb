{
  "nbformat": 4,
  "nbformat_minor": 0,
  "metadata": {
    "colab": {
      "name": "ktrain.ipynb",
      "provenance": [],
      "authorship_tag": "ABX9TyOKeJ/ZwpyBihzdQAF5xoIS",
      "include_colab_link": true
    },
    "kernelspec": {
      "name": "python3",
      "display_name": "Python 3"
    },
    "language_info": {
      "name": "python"
    }
  },
  "cells": [
    {
      "cell_type": "markdown",
      "metadata": {
        "id": "view-in-github",
        "colab_type": "text"
      },
      "source": [
        "<a href=\"https://colab.research.google.com/github/ash-netizen/Mental_Fatigue/blob/main/ktrain.ipynb\" target=\"_parent\"><img src=\"https://colab.research.google.com/assets/colab-badge.svg\" alt=\"Open In Colab\"/></a>"
      ]
    },
    {
      "cell_type": "code",
      "metadata": {
        "colab": {
          "base_uri": "https://localhost:8080/"
        },
        "id": "3KT7kK1WxsC_",
        "outputId": "783a65a9-334e-4562-b369-1973fd61ffe1"
      },
      "source": [
        "import sys\n",
        "!pip install -q ktrain"
      ],
      "execution_count": 2,
      "outputs": [
        {
          "output_type": "stream",
          "text": [
            "\u001b[K     |████████████████████████████████| 6.8MB 16.2MB/s \n",
            "\u001b[K     |████████████████████████████████| 983kB 42.4MB/s \n",
            "\u001b[K     |████████████████████████████████| 266kB 46.8MB/s \n",
            "\u001b[K     |████████████████████████████████| 1.9MB 38.4MB/s \n",
            "\u001b[K     |████████████████████████████████| 1.2MB 41.4MB/s \n",
            "\u001b[K     |████████████████████████████████| 471kB 36.8MB/s \n",
            "\u001b[K     |████████████████████████████████| 3.3MB 42.4MB/s \n",
            "\u001b[K     |████████████████████████████████| 901kB 28.0MB/s \n",
            "\u001b[?25h  Building wheel for ktrain (setup.py) ... \u001b[?25l\u001b[?25hdone\n",
            "  Building wheel for langdetect (setup.py) ... \u001b[?25l\u001b[?25hdone\n",
            "  Building wheel for syntok (setup.py) ... \u001b[?25l\u001b[?25hdone\n",
            "  Building wheel for seqeval (setup.py) ... \u001b[?25l\u001b[?25hdone\n",
            "  Building wheel for keras-bert (setup.py) ... \u001b[?25l\u001b[?25hdone\n",
            "  Building wheel for keras-transformer (setup.py) ... \u001b[?25l\u001b[?25hdone\n",
            "  Building wheel for keras-pos-embd (setup.py) ... \u001b[?25l\u001b[?25hdone\n",
            "  Building wheel for keras-multi-head (setup.py) ... \u001b[?25l\u001b[?25hdone\n",
            "  Building wheel for keras-layer-normalization (setup.py) ... \u001b[?25l\u001b[?25hdone\n",
            "  Building wheel for keras-position-wise-feed-forward (setup.py) ... \u001b[?25l\u001b[?25hdone\n",
            "  Building wheel for keras-embed-sim (setup.py) ... \u001b[?25l\u001b[?25hdone\n",
            "  Building wheel for keras-self-attention (setup.py) ... \u001b[?25l\u001b[?25hdone\n"
          ],
          "name": "stdout"
        }
      ]
    },
    {
      "cell_type": "code",
      "metadata": {
        "colab": {
          "base_uri": "https://localhost:8080/",
          "height": 35
        },
        "id": "B2zJy4STylyQ",
        "outputId": "5da06b26-fb70-4aab-c390-2481beadca80"
      },
      "source": [
        "import tensorflow as tf\n",
        "tf.__version__"
      ],
      "execution_count": 3,
      "outputs": [
        {
          "output_type": "execute_result",
          "data": {
            "application/vnd.google.colaboratory.intrinsic+json": {
              "type": "string"
            },
            "text/plain": [
              "'2.4.1'"
            ]
          },
          "metadata": {
            "tags": []
          },
          "execution_count": 3
        }
      ]
    },
    {
      "cell_type": "code",
      "metadata": {
        "colab": {
          "base_uri": "https://localhost:8080/",
          "height": 35
        },
        "id": "t9RBA41bylu3",
        "outputId": "d74be35b-f56e-4063-b731-aa9b544507c6"
      },
      "source": [
        "import ktrain\n",
        "from ktrain import tabular\n",
        "import pandas as pd\n",
        "import numpy as np\n",
        "ktrain.__version__"
      ],
      "execution_count": 4,
      "outputs": [
        {
          "output_type": "execute_result",
          "data": {
            "application/vnd.google.colaboratory.intrinsic+json": {
              "type": "string"
            },
            "text/plain": [
              "'0.26.2'"
            ]
          },
          "metadata": {
            "tags": []
          },
          "execution_count": 4
        }
      ]
    },
    {
      "cell_type": "code",
      "metadata": {
        "id": "Ei_ELd4QzTaf"
      },
      "source": [
        "train = pd.read_csv(\"train.csv\")\n",
        "test = pd.read_csv(\"test.csv\")"
      ],
      "execution_count": 133,
      "outputs": []
    },
    {
      "cell_type": "code",
      "metadata": {
        "colab": {
          "base_uri": "https://localhost:8080/",
          "height": 114
        },
        "id": "LpeYuJ_OzTWt",
        "outputId": "b9208c9c-6c44-4f36-f125-b3428bd188ea"
      },
      "source": [
        "train = train.dropna()\n",
        "train.head(1)"
      ],
      "execution_count": 134,
      "outputs": [
        {
          "output_type": "execute_result",
          "data": {
            "text/html": [
              "<div>\n",
              "<style scoped>\n",
              "    .dataframe tbody tr th:only-of-type {\n",
              "        vertical-align: middle;\n",
              "    }\n",
              "\n",
              "    .dataframe tbody tr th {\n",
              "        vertical-align: top;\n",
              "    }\n",
              "\n",
              "    .dataframe thead th {\n",
              "        text-align: right;\n",
              "    }\n",
              "</style>\n",
              "<table border=\"1\" class=\"dataframe\">\n",
              "  <thead>\n",
              "    <tr style=\"text-align: right;\">\n",
              "      <th></th>\n",
              "      <th>Employee ID</th>\n",
              "      <th>Date of Joining</th>\n",
              "      <th>Gender</th>\n",
              "      <th>Company Type</th>\n",
              "      <th>WFH Setup Available</th>\n",
              "      <th>Age</th>\n",
              "      <th>Tenure</th>\n",
              "      <th>Vacations taken</th>\n",
              "      <th>Designation</th>\n",
              "      <th>Average Hours worked per day</th>\n",
              "      <th>Employee satisfaction score</th>\n",
              "      <th>Mental Fatigue Score</th>\n",
              "    </tr>\n",
              "  </thead>\n",
              "  <tbody>\n",
              "    <tr>\n",
              "      <th>0</th>\n",
              "      <td>fffe32003000360033003200</td>\n",
              "      <td>2008-09-30</td>\n",
              "      <td>Female</td>\n",
              "      <td>Service</td>\n",
              "      <td>No</td>\n",
              "      <td>52</td>\n",
              "      <td>18</td>\n",
              "      <td>8</td>\n",
              "      <td>2</td>\n",
              "      <td>3.0</td>\n",
              "      <td>3.8</td>\n",
              "      <td>0.16</td>\n",
              "    </tr>\n",
              "  </tbody>\n",
              "</table>\n",
              "</div>"
            ],
            "text/plain": [
              "                Employee ID  ... Mental Fatigue Score\n",
              "0  fffe32003000360033003200  ...                 0.16\n",
              "\n",
              "[1 rows x 12 columns]"
            ]
          },
          "metadata": {
            "tags": []
          },
          "execution_count": 134
        }
      ]
    },
    {
      "cell_type": "code",
      "metadata": {
        "id": "glx5y--czTSv"
      },
      "source": [
        "data_columns = ['WFH Setup Available',\n",
        "                'Designation'\n",
        "                , 'Average Hours worked per day',\n",
        "                'Employee satisfaction score'\n",
        "                , 'Mental Fatigue Score'\n",
        "               ]\n",
        "\n",
        "train_df = train[data_columns]"
      ],
      "execution_count": 135,
      "outputs": []
    },
    {
      "cell_type": "code",
      "metadata": {
        "colab": {
          "base_uri": "https://localhost:8080/"
        },
        "id": "jBknx1cwzTPt",
        "outputId": "8ccc1d0b-642d-441e-d6df-334f1495e252"
      },
      "source": [
        "trn, val, preproc = tabular.tabular_from_df(train_df, label_columns=['Mental Fatigue Score'], random_state=42, is_regression=True )\n"
      ],
      "execution_count": 136,
      "outputs": [
        {
          "output_type": "stream",
          "text": [
            "processing train: 16836 rows x 5 columns\n",
            "['Mental Fatigue Score']\n",
            "   Mental Fatigue Score\n",
            "0                  0.16\n",
            "3                  0.20\n",
            "4                  0.52\n",
            "5                  0.29\n",
            "6                  0.62\n",
            "\n",
            "The following integer column(s) are being treated as categorical variables:\n",
            "['Designation']\n",
            "To treat any of these column(s) as numerical, cast the column to float in DataFrame or CSV\n",
            " and re-run tabular_from* function.\n",
            "\n",
            "processing test: 1834 rows x 5 columns\n",
            "['Mental Fatigue Score']\n",
            "    Mental Fatigue Score\n",
            "1                   0.36\n",
            "16                  0.39\n",
            "44                  0.59\n",
            "46                  0.94\n",
            "57                  0.61\n"
          ],
          "name": "stdout"
        },
        {
          "output_type": "stream",
          "text": [
            "/usr/local/lib/python3.7/dist-packages/ktrain/utils.py:580: UserWarning: Task is being treated as REGRESSION because either class_names argument was not supplied or is_regression=True. If this is incorrect, change accordingly.\n",
            "  'either class_names argument was not supplied or is_regression=True. ' + \\\n"
          ],
          "name": "stderr"
        }
      ]
    },
    {
      "cell_type": "code",
      "metadata": {
        "colab": {
          "base_uri": "https://localhost:8080/"
        },
        "id": "jSroBKeE0PWb",
        "outputId": "0cf05827-3e25-4efc-bf9c-9839cb29beb4"
      },
      "source": [
        "tabular.print_tabular_regression_models()\n"
      ],
      "execution_count": 137,
      "outputs": [
        {
          "output_type": "stream",
          "text": [
            "mlp: a configurable multilayer perceptron with categorical variable embeddings [https://arxiv.org/abs/1604.06737]\n"
          ],
          "name": "stdout"
        }
      ]
    },
    {
      "cell_type": "code",
      "metadata": {
        "colab": {
          "base_uri": "https://localhost:8080/"
        },
        "id": "9DwAntKX0PRP",
        "outputId": "093a20ed-8d4c-48a3-bc10-ef64f6387f2e"
      },
      "source": [
        "model = tabular.tabular_regression_model('mlp', trn, metrics=[tf.keras.metrics.RootMeanSquaredError()])\n",
        "learner = ktrain.get_learner(model, train_data=trn, val_data=val, batch_size=256)"
      ],
      "execution_count": 138,
      "outputs": [
        {
          "output_type": "stream",
          "text": [
            "done.\n"
          ],
          "name": "stdout"
        }
      ]
    },
    {
      "cell_type": "code",
      "metadata": {
        "colab": {
          "base_uri": "https://localhost:8080/"
        },
        "id": "2CbKOpj40PMK",
        "outputId": "afbcf7f1-ae00-42f6-fd7b-55253db5645c"
      },
      "source": [
        "learner.fit_onecycle(4e-3, 35)\n"
      ],
      "execution_count": 139,
      "outputs": [
        {
          "output_type": "stream",
          "text": [
            "\n",
            "\n",
            "begin training using onecycle policy with max lr of 0.004...\n",
            "Epoch 1/35\n",
            "66/66 [==============================] - 3s 39ms/step - loss: 0.0742 - root_mean_squared_error: 0.2625 - val_loss: 0.0052 - val_root_mean_squared_error: 0.0725\n",
            "Epoch 2/35\n",
            "66/66 [==============================] - 2s 36ms/step - loss: 0.0043 - root_mean_squared_error: 0.0655 - val_loss: 0.0040 - val_root_mean_squared_error: 0.0633\n",
            "Epoch 3/35\n",
            "66/66 [==============================] - 2s 36ms/step - loss: 0.0038 - root_mean_squared_error: 0.0617 - val_loss: 0.0039 - val_root_mean_squared_error: 0.0628\n",
            "Epoch 4/35\n",
            "66/66 [==============================] - 2s 36ms/step - loss: 0.0043 - root_mean_squared_error: 0.0655 - val_loss: 0.0041 - val_root_mean_squared_error: 0.0642\n",
            "Epoch 5/35\n",
            "66/66 [==============================] - 2s 36ms/step - loss: 0.0039 - root_mean_squared_error: 0.0628 - val_loss: 0.0040 - val_root_mean_squared_error: 0.0635\n",
            "Epoch 6/35\n",
            "66/66 [==============================] - 2s 37ms/step - loss: 0.0040 - root_mean_squared_error: 0.0634 - val_loss: 0.0040 - val_root_mean_squared_error: 0.0629\n",
            "Epoch 7/35\n",
            "66/66 [==============================] - 2s 36ms/step - loss: 0.0044 - root_mean_squared_error: 0.0656 - val_loss: 0.0041 - val_root_mean_squared_error: 0.0641\n",
            "Epoch 8/35\n",
            "66/66 [==============================] - 2s 36ms/step - loss: 0.0043 - root_mean_squared_error: 0.0656 - val_loss: 0.0040 - val_root_mean_squared_error: 0.0636\n",
            "Epoch 9/35\n",
            "66/66 [==============================] - 2s 36ms/step - loss: 0.0041 - root_mean_squared_error: 0.0642 - val_loss: 0.0042 - val_root_mean_squared_error: 0.0648\n",
            "Epoch 10/35\n",
            "66/66 [==============================] - 2s 37ms/step - loss: 0.0044 - root_mean_squared_error: 0.0658 - val_loss: 0.0046 - val_root_mean_squared_error: 0.0681\n",
            "Epoch 11/35\n",
            "66/66 [==============================] - 2s 36ms/step - loss: 0.0038 - root_mean_squared_error: 0.0614 - val_loss: 0.0041 - val_root_mean_squared_error: 0.0638\n",
            "Epoch 12/35\n",
            "66/66 [==============================] - 2s 37ms/step - loss: 0.0036 - root_mean_squared_error: 0.0602 - val_loss: 0.0053 - val_root_mean_squared_error: 0.0725\n",
            "Epoch 13/35\n",
            "66/66 [==============================] - 2s 36ms/step - loss: 0.0045 - root_mean_squared_error: 0.0669 - val_loss: 0.0045 - val_root_mean_squared_error: 0.0669\n",
            "Epoch 14/35\n",
            "66/66 [==============================] - 2s 36ms/step - loss: 0.0040 - root_mean_squared_error: 0.0635 - val_loss: 0.0039 - val_root_mean_squared_error: 0.0627\n",
            "Epoch 15/35\n",
            "66/66 [==============================] - 2s 36ms/step - loss: 0.0039 - root_mean_squared_error: 0.0621 - val_loss: 0.0038 - val_root_mean_squared_error: 0.0618\n",
            "Epoch 16/35\n",
            "66/66 [==============================] - 2s 36ms/step - loss: 0.0041 - root_mean_squared_error: 0.0641 - val_loss: 0.0045 - val_root_mean_squared_error: 0.0673\n",
            "Epoch 17/35\n",
            "66/66 [==============================] - 2s 37ms/step - loss: 0.0043 - root_mean_squared_error: 0.0655 - val_loss: 0.0040 - val_root_mean_squared_error: 0.0632\n",
            "Epoch 18/35\n",
            "66/66 [==============================] - 2s 36ms/step - loss: 0.0043 - root_mean_squared_error: 0.0648 - val_loss: 0.0043 - val_root_mean_squared_error: 0.0657\n",
            "Epoch 19/35\n",
            "66/66 [==============================] - 2s 36ms/step - loss: 0.0042 - root_mean_squared_error: 0.0647 - val_loss: 0.0038 - val_root_mean_squared_error: 0.0618\n",
            "Epoch 20/35\n",
            "66/66 [==============================] - 2s 36ms/step - loss: 0.0036 - root_mean_squared_error: 0.0598 - val_loss: 0.0040 - val_root_mean_squared_error: 0.0635\n",
            "Epoch 21/35\n",
            "66/66 [==============================] - 2s 36ms/step - loss: 0.0034 - root_mean_squared_error: 0.0579 - val_loss: 0.0043 - val_root_mean_squared_error: 0.0653\n",
            "Epoch 22/35\n",
            "66/66 [==============================] - 2s 37ms/step - loss: 0.0043 - root_mean_squared_error: 0.0654 - val_loss: 0.0040 - val_root_mean_squared_error: 0.0631\n",
            "Epoch 23/35\n",
            "66/66 [==============================] - 2s 36ms/step - loss: 0.0033 - root_mean_squared_error: 0.0576 - val_loss: 0.0042 - val_root_mean_squared_error: 0.0650\n",
            "Epoch 24/35\n",
            "66/66 [==============================] - 2s 37ms/step - loss: 0.0036 - root_mean_squared_error: 0.0598 - val_loss: 0.0038 - val_root_mean_squared_error: 0.0617\n",
            "Epoch 25/35\n",
            "66/66 [==============================] - 2s 36ms/step - loss: 0.0037 - root_mean_squared_error: 0.0605 - val_loss: 0.0038 - val_root_mean_squared_error: 0.0620\n",
            "Epoch 26/35\n",
            "66/66 [==============================] - 2s 36ms/step - loss: 0.0036 - root_mean_squared_error: 0.0598 - val_loss: 0.0038 - val_root_mean_squared_error: 0.0620\n",
            "Epoch 27/35\n",
            "66/66 [==============================] - 2s 36ms/step - loss: 0.0037 - root_mean_squared_error: 0.0604 - val_loss: 0.0038 - val_root_mean_squared_error: 0.0613\n",
            "Epoch 28/35\n",
            "66/66 [==============================] - 2s 37ms/step - loss: 0.0036 - root_mean_squared_error: 0.0596 - val_loss: 0.0038 - val_root_mean_squared_error: 0.0614\n",
            "Epoch 29/35\n",
            "66/66 [==============================] - 2s 36ms/step - loss: 0.0038 - root_mean_squared_error: 0.0615 - val_loss: 0.0039 - val_root_mean_squared_error: 0.0625\n",
            "Epoch 30/35\n",
            "66/66 [==============================] - 2s 37ms/step - loss: 0.0049 - root_mean_squared_error: 0.0684 - val_loss: 0.0038 - val_root_mean_squared_error: 0.0617\n",
            "Epoch 31/35\n",
            "66/66 [==============================] - 2s 36ms/step - loss: 0.0044 - root_mean_squared_error: 0.0658 - val_loss: 0.0038 - val_root_mean_squared_error: 0.0612\n",
            "Epoch 32/35\n",
            "66/66 [==============================] - 2s 37ms/step - loss: 0.0035 - root_mean_squared_error: 0.0592 - val_loss: 0.0037 - val_root_mean_squared_error: 0.0612\n",
            "Epoch 33/35\n",
            "66/66 [==============================] - 2s 36ms/step - loss: 0.0039 - root_mean_squared_error: 0.0625 - val_loss: 0.0038 - val_root_mean_squared_error: 0.0614\n",
            "Epoch 34/35\n",
            "66/66 [==============================] - 2s 36ms/step - loss: 0.0038 - root_mean_squared_error: 0.0619 - val_loss: 0.0037 - val_root_mean_squared_error: 0.0610\n",
            "Epoch 35/35\n",
            "66/66 [==============================] - 2s 36ms/step - loss: 0.0039 - root_mean_squared_error: 0.0626 - val_loss: 0.0037 - val_root_mean_squared_error: 0.0610\n"
          ],
          "name": "stdout"
        },
        {
          "output_type": "execute_result",
          "data": {
            "text/plain": [
              "<tensorflow.python.keras.callbacks.History at 0x7f3849135190>"
            ]
          },
          "metadata": {
            "tags": []
          },
          "execution_count": 139
        }
      ]
    },
    {
      "cell_type": "code",
      "metadata": {
        "id": "sf5UirOO0PH1"
      },
      "source": [
        "test_df = test[data_columns[:-1]]"
      ],
      "execution_count": 140,
      "outputs": []
    },
    {
      "cell_type": "code",
      "metadata": {
        "colab": {
          "base_uri": "https://localhost:8080/"
        },
        "id": "tcUveKco1HVd",
        "outputId": "0e5d9a66-9f6e-4b93-86af-d4cbfe36c2eb"
      },
      "source": [
        "predictor = ktrain.get_predictor(learner.model, preproc)\n",
        "preds = predictor.predict(test_df)"
      ],
      "execution_count": 141,
      "outputs": [
        {
          "output_type": "stream",
          "text": [
            "['Mental Fatigue Score']\n",
            "   Mental Fatigue Score\n",
            "0                   0.0\n",
            "1                   0.0\n",
            "2                   0.0\n",
            "3                   0.0\n",
            "4                   0.0\n"
          ],
          "name": "stdout"
        }
      ]
    },
    {
      "cell_type": "code",
      "metadata": {
        "id": "x1dOqyaT1d0s"
      },
      "source": [
        "sub = pd.read_csv(\"test.csv\")\n",
        "sub = sub.loc[:, [\"Employee ID\"]]"
      ],
      "execution_count": 142,
      "outputs": []
    },
    {
      "cell_type": "code",
      "metadata": {
        "colab": {
          "base_uri": "https://localhost:8080/",
          "height": 17
        },
        "id": "Vqya4iJE2GIu",
        "outputId": "afa87393-da09-4985-e41b-ec4c0efd6ecc"
      },
      "source": [
        "sub['Mental Fatigue Score'] = preds\n",
        "with open('KT_submission.csv', 'w') as f:\n",
        "    sub.to_csv(f, index=False, header=True)\n",
        "\n",
        "from google.colab import files\n",
        "files.download('KT_submission.csv')"
      ],
      "execution_count": 143,
      "outputs": [
        {
          "output_type": "display_data",
          "data": {
            "application/javascript": [
              "\n",
              "    async function download(id, filename, size) {\n",
              "      if (!google.colab.kernel.accessAllowed) {\n",
              "        return;\n",
              "      }\n",
              "      const div = document.createElement('div');\n",
              "      const label = document.createElement('label');\n",
              "      label.textContent = `Downloading \"${filename}\": `;\n",
              "      div.appendChild(label);\n",
              "      const progress = document.createElement('progress');\n",
              "      progress.max = size;\n",
              "      div.appendChild(progress);\n",
              "      document.body.appendChild(div);\n",
              "\n",
              "      const buffers = [];\n",
              "      let downloaded = 0;\n",
              "\n",
              "      const channel = await google.colab.kernel.comms.open(id);\n",
              "      // Send a message to notify the kernel that we're ready.\n",
              "      channel.send({})\n",
              "\n",
              "      for await (const message of channel.messages) {\n",
              "        // Send a message to notify the kernel that we're ready.\n",
              "        channel.send({})\n",
              "        if (message.buffers) {\n",
              "          for (const buffer of message.buffers) {\n",
              "            buffers.push(buffer);\n",
              "            downloaded += buffer.byteLength;\n",
              "            progress.value = downloaded;\n",
              "          }\n",
              "        }\n",
              "      }\n",
              "      const blob = new Blob(buffers, {type: 'application/binary'});\n",
              "      const a = document.createElement('a');\n",
              "      a.href = window.URL.createObjectURL(blob);\n",
              "      a.download = filename;\n",
              "      div.appendChild(a);\n",
              "      a.click();\n",
              "      div.remove();\n",
              "    }\n",
              "  "
            ],
            "text/plain": [
              "<IPython.core.display.Javascript object>"
            ]
          },
          "metadata": {
            "tags": []
          }
        },
        {
          "output_type": "display_data",
          "data": {
            "application/javascript": [
              "download(\"download_d6fa7311-4fa3-4cdb-b370-07316b78642a\", \"KT_submission.csv\", 420259)"
            ],
            "text/plain": [
              "<IPython.core.display.Javascript object>"
            ]
          },
          "metadata": {
            "tags": []
          }
        }
      ]
    }
  ]
}